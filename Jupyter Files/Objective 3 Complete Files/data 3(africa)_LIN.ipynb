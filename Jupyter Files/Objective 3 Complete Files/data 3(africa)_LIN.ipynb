{
 "cells": [
  {
   "cell_type": "code",
   "execution_count": 7,
   "metadata": {},
   "outputs": [
    {
     "data": {
      "text/html": [
       "<div>\n",
       "<style scoped>\n",
       "    .dataframe tbody tr th:only-of-type {\n",
       "        vertical-align: middle;\n",
       "    }\n",
       "\n",
       "    .dataframe tbody tr th {\n",
       "        vertical-align: top;\n",
       "    }\n",
       "\n",
       "    .dataframe thead th {\n",
       "        text-align: right;\n",
       "    }\n",
       "</style>\n",
       "<table border=\"1\" class=\"dataframe\">\n",
       "  <thead>\n",
       "    <tr style=\"text-align: right;\">\n",
       "      <th></th>\n",
       "      <th>GeoAreaName</th>\n",
       "      <th>2014</th>\n",
       "      <th>2015</th>\n",
       "      <th>2016</th>\n",
       "      <th>2017</th>\n",
       "      <th>2018</th>\n",
       "    </tr>\n",
       "  </thead>\n",
       "  <tbody>\n",
       "    <tr>\n",
       "      <th>0</th>\n",
       "      <td>Central African Republic</td>\n",
       "      <td>5</td>\n",
       "      <td>5</td>\n",
       "      <td>5</td>\n",
       "      <td>5</td>\n",
       "      <td>5</td>\n",
       "    </tr>\n",
       "    <tr>\n",
       "      <th>1</th>\n",
       "      <td>Northern Africa</td>\n",
       "      <td>88</td>\n",
       "      <td>89</td>\n",
       "      <td>89</td>\n",
       "      <td>90</td>\n",
       "      <td>90</td>\n",
       "    </tr>\n",
       "    <tr>\n",
       "      <th>2</th>\n",
       "      <td>Northern Africa and Western Asia</td>\n",
       "      <td>91</td>\n",
       "      <td>91</td>\n",
       "      <td>91</td>\n",
       "      <td>91</td>\n",
       "      <td>91</td>\n",
       "    </tr>\n",
       "    <tr>\n",
       "      <th>3</th>\n",
       "      <td>South Africa</td>\n",
       "      <td>82</td>\n",
       "      <td>83</td>\n",
       "      <td>84</td>\n",
       "      <td>85</td>\n",
       "      <td>85</td>\n",
       "    </tr>\n",
       "    <tr>\n",
       "      <th>4</th>\n",
       "      <td>Sub-Saharan Africa</td>\n",
       "      <td>13</td>\n",
       "      <td>13</td>\n",
       "      <td>14</td>\n",
       "      <td>14</td>\n",
       "      <td>15</td>\n",
       "    </tr>\n",
       "  </tbody>\n",
       "</table>\n",
       "</div>"
      ],
      "text/plain": [
       "                        GeoAreaName  2014  2015  2016  2017  2018\n",
       "0          Central African Republic     5     5     5     5     5\n",
       "1                   Northern Africa    88    89    89    90    90\n",
       "2  Northern Africa and Western Asia    91    91    91    91    91\n",
       "3                      South Africa    82    83    84    85    85\n",
       "4                Sub-Saharan Africa    13    13    14    14    15"
      ]
     },
     "execution_count": 7,
     "metadata": {},
     "output_type": "execute_result"
    }
   ],
   "source": [
    "import pandas as pd\n",
    "df=pd.read_csv('data 3(africa).csv')\n",
    "df"
   ]
  },
  {
   "cell_type": "code",
   "execution_count": 8,
   "metadata": {},
   "outputs": [
    {
     "name": "stdout",
     "output_type": "stream",
     "text": [
      "Matrix:\n",
      "[[ 5  5  5  5  5]\n",
      " [88 89 89 90 90]\n",
      " [91 91 91 91 91]\n",
      " [82 83 84 85 85]\n",
      " [13 13 14 14 15]]\n"
     ]
    }
   ],
   "source": [
    "a=df.iloc[:,1:].to_numpy()\n",
    "print(\"Matrix:\")\n",
    "print(a)"
   ]
  },
  {
   "cell_type": "code",
   "execution_count": 9,
   "metadata": {},
   "outputs": [
    {
     "name": "stdout",
     "output_type": "stream",
     "text": [
      "Step 1 : \n",
      " [[0.05494505]\n",
      " [0.98021978]\n",
      " [1.        ]\n",
      " [0.92087912]\n",
      " [0.15164835]] \n",
      " Eigen Value :  [455]\n",
      "Step 2 : \n",
      " [[0.0549]\n",
      " [0.9816]\n",
      " [1.    ]\n",
      " [0.923 ]\n",
      " [0.1507]] \n",
      " Eigen Value :  [282.8]\n",
      "Step 3 \n",
      " [[0.05494505]\n",
      " [0.98162162]\n",
      " [1.        ]\n",
      " [0.92301439]\n",
      " [0.15071643]] \n",
      " Eigen Value :  [283.0282]\n",
      "Step 4 \n",
      " [[0.05494505]\n",
      " [0.98162136]\n",
      " [0.9999999 ]\n",
      " [0.92301401]\n",
      " [0.15071634]] \n",
      " Eigen Value :  [283.0371]\n",
      "Step 5 \n",
      " [[0.05494505]\n",
      " [0.98162144]\n",
      " [0.99999998]\n",
      " [0.92301408]\n",
      " [0.15071635]] \n",
      " Eigen Value :  [283.037]\n",
      "Step 6 \n",
      " [[0.05494506]\n",
      " [0.98162152]\n",
      " [1.00000007]\n",
      " [0.92301416]\n",
      " [0.15071636]] \n",
      " Eigen Value :  [283.037]\n"
     ]
    }
   ],
   "source": [
    "import numpy as np \n",
    "x0=np.array([[1],[1],[1],[1],[1]])\n",
    "j=1\n",
    "#first iteration\n",
    "x1=np.matmul(a,x0)\n",
    "previous_eigen_value=np.round(max([abs(i) for i in x1]),4)\n",
    "x1=x1/previous_eigen_value\n",
    "print(\"Step\",j,\":\",'\\n',x1,'\\n',\"Eigen Value : \",previous_eigen_value)\n",
    "j+=1\n",
    "#second iteration\n",
    "x3=np.matmul(a,x1)\n",
    "present_eigen_value=np.round(max([abs(i) for i in x3]),4)\n",
    "x3=np.round(x3/present_eigen_value,4)\n",
    "print(\"Step\",j,\":\",'\\n',x3,'\\n',\"Eigen Value : \",present_eigen_value)\n",
    "#while loop\n",
    "while(previous_eigen_value!=present_eigen_value):#will calculate until previous and present eigen value are same\n",
    "    j+=1\n",
    "    previous_eigen_value=present_eigen_value\n",
    "    x1=np.matmul(a,x3)\n",
    "    present_eigen_value=np.round(max([abs(i) for i in x1]),4)\n",
    "    x1=x1/present_eigen_value\n",
    "    print(\"Step\",j,\"\\n\",x1,'\\n',\"Eigen Value : \",present_eigen_value)\n",
    "    x3=x1"
   ]
  },
  {
   "cell_type": "code",
   "execution_count": null,
   "metadata": {},
   "outputs": [],
   "source": []
  }
 ],
 "metadata": {
  "kernelspec": {
   "display_name": "Python 3",
   "language": "python",
   "name": "python3"
  },
  "language_info": {
   "codemirror_mode": {
    "name": "ipython",
    "version": 3
   },
   "file_extension": ".py",
   "mimetype": "text/x-python",
   "name": "python",
   "nbconvert_exporter": "python",
   "pygments_lexer": "ipython3",
   "version": "3.8.3"
  }
 },
 "nbformat": 4,
 "nbformat_minor": 4
}
